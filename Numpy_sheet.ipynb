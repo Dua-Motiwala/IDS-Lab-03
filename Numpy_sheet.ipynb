{
 "cells": [
  {
   "cell_type": "code",
   "execution_count": 9,
   "id": "8820844f-6c69-4169-ac0e-7091e73cd0b0",
   "metadata": {},
   "outputs": [
    {
     "name": "stdout",
     "output_type": "stream",
     "text": [
      "Array a: [1 2 3]\n",
      "Array b:\n",
      " [[1.5 2.  3. ]\n",
      " [4.  5.  6. ]]\n",
      "Zeros:\n",
      " [[0. 0. 0. 0.]\n",
      " [0. 0. 0. 0.]\n",
      " [0. 0. 0. 0.]]\n",
      "Ones:\n",
      " [[[1 1 1 1]\n",
      "  [1 1 1 1]\n",
      "  [1 1 1 1]]\n",
      "\n",
      " [[1 1 1 1]\n",
      "  [1 1 1 1]\n",
      "  [1 1 1 1]]]\n",
      "Arange: [10 15 20]\n",
      "Linspace: [0.   0.25 0.5  0.75 1.   1.25 1.5  1.75 2.  ]\n",
      "Full:\n",
      " [[7 7]\n",
      " [7 7]]\n",
      "Identity:\n",
      " [[1. 0.]\n",
      " [0. 1.]]\n",
      "Random:\n",
      " [[0.66583157 0.70174109]\n",
      " [0.13422071 0.19929421]]\n",
      "Empty:\n",
      " [[1.39069238e-309 1.39069238e-309]\n",
      " [1.39069238e-309 1.39069238e-309]\n",
      " [1.39069238e-309 1.39069238e-309]]\n"
     ]
    }
   ],
   "source": [
    "\n",
    "# NumPy Practice Sheet\n",
    "\n",
    "import numpy as np\n",
    "\n",
    "# Creating Arrays\n",
    "\n",
    "a = np.array([1, 2, 3])\n",
    "print(\"Array a:\", a)\n",
    "\n",
    "b = np.array([(1.5, 2, 3), (4, 5, 6)], dtype=float)\n",
    "print(\"Array b:\\n\", b)\n",
    "\n",
    "c = np.zeros((3, 4))\n",
    "print(\"Zeros:\\n\", c)\n",
    "\n",
    "d = np.ones((2, 3, 4), dtype=np.int16)\n",
    "print(\"Ones:\\n\", d)\n",
    "\n",
    "e = np.arange(10, 25, 5)\n",
    "print(\"Arange:\", e)\n",
    "\n",
    "f = np.linspace(0, 2, 9)\n",
    "print(\"Linspace:\", f)\n",
    "\n",
    "g = np.full((2, 2), 7)\n",
    "print(\"Full:\\n\", g)\n",
    "\n",
    "h = np.eye(2)\n",
    "print(\"Identity:\\n\", h)\n",
    "\n",
    "rand_arr = np.random.random((2, 2))\n",
    "print(\"Random:\\n\", rand_arr)\n",
    "\n",
    "empty_arr = np.empty((3, 2))\n",
    "print(\"Empty:\\n\", empty_arr)\n"
   ]
  },
  {
   "cell_type": "code",
   "execution_count": 10,
   "id": "c74486ca-826d-4696-ba91-73874cf1f769",
   "metadata": {},
   "outputs": [
    {
     "name": "stdout",
     "output_type": "stream",
     "text": [
      "a[2]: 3\n",
      "b[1, 2]: 6.0\n",
      "a[0:2]: [1 2]\n",
      "b[0:2,1]: [2. 5.]\n",
      "a reversed: [3 2 1]\n",
      "a[a < 2]: [1]\n"
     ]
    }
   ],
   "source": [
    "# Indexing, Slicing, Boolean\n",
    "\n",
    "print(\"a[2]:\", a[2])\n",
    "print(\"b[1, 2]:\", b[1, 2])\n",
    "print(\"a[0:2]:\", a[0:2])\n",
    "print(\"b[0:2,1]:\", b[0:2, 1])\n",
    "print(\"a reversed:\", a[::-1])\n",
    "print(\"a[a < 2]:\", a[a < 2])"
   ]
  },
  {
   "cell_type": "code",
   "execution_count": 11,
   "id": "5ddb7834-64dc-49e7-907e-d0e870699366",
   "metadata": {},
   "outputs": [
    {
     "name": "stdout",
     "output_type": "stream",
     "text": [
      "a + b:\n",
      " [[2.5 4.  6. ]\n",
      " [5.  7.  9. ]]\n",
      "a - b:\n",
      " [[-0.5  0.   0. ]\n",
      " [-3.  -3.  -3. ]]\n",
      "a * b:\n",
      " [[ 1.5  4.   9. ]\n",
      " [ 4.  10.  18. ]]\n",
      "a / b:\n",
      " [[0.66666667 1.         1.        ]\n",
      " [0.25       0.4        0.5       ]]\n",
      "exp(b):\n",
      " [[  4.48168907   7.3890561   20.08553692]\n",
      " [ 54.59815003 148.4131591  403.42879349]]\n",
      "sqrt(b):\n",
      " [[1.22474487 1.41421356 1.73205081]\n",
      " [2.         2.23606798 2.44948974]]\n",
      "sin(a): [0.84147098 0.90929743 0.14112001]\n",
      "cos(b):\n",
      " [[ 0.0707372  -0.41614684 -0.9899925 ]\n",
      " [-0.65364362  0.28366219  0.96017029]]\n",
      "log(a): [0.         0.69314718 1.09861229]\n"
     ]
    }
   ],
   "source": [
    "# Arithmetic Operations\n",
    "\n",
    "print(\"a + b:\\n\", np.add(b, a))\n",
    "print(\"a - b:\\n\", np.subtract(a, b))\n",
    "print(\"a * b:\\n\", np.multiply(a, b))\n",
    "print(\"a / b:\\n\", np.divide(a, b))\n",
    "\n",
    "print(\"exp(b):\\n\", np.exp(b))\n",
    "print(\"sqrt(b):\\n\", np.sqrt(b))\n",
    "print(\"sin(a):\", np.sin(a))\n",
    "print(\"cos(b):\\n\", np.cos(b))\n",
    "print(\"log(a):\", np.log(a))"
   ]
  },
  {
   "cell_type": "code",
   "execution_count": 12,
   "id": "3258c228-be9d-4039-86b1-b40bf508ed99",
   "metadata": {},
   "outputs": [
    {
     "name": "stdout",
     "output_type": "stream",
     "text": [
      "Dot product:\n",
      " [[15.25 34.  ]\n",
      " [34.   77.  ]]\n"
     ]
    }
   ],
   "source": [
    "# Dot product\n",
    "print(\"Dot product:\\n\", b.dot(b.T))\n"
   ]
  },
  {
   "cell_type": "code",
   "execution_count": 13,
   "id": "04767a8c-24ad-42ae-9be4-bf0ab146c45c",
   "metadata": {},
   "outputs": [
    {
     "name": "stdout",
     "output_type": "stream",
     "text": [
      "Sum: 6\n",
      "Min: 1\n",
      "Max of b (axis=0): [4. 5. 6.]\n",
      "Cumulative sum of b (axis=1):\n",
      " [[ 1.5  3.5  6.5]\n",
      " [ 4.   9.  15. ]]\n",
      "Mean: 2.0\n",
      "Median: 3.5\n",
      "Std dev: 1.5920810978785667\n"
     ]
    }
   ],
   "source": [
    "# Aggregate Functions\n",
    "\n",
    "print(\"Sum:\", a.sum())\n",
    "print(\"Min:\", a.min())\n",
    "print(\"Max of b (axis=0):\", b.max(axis=0))\n",
    "print(\"Cumulative sum of b (axis=1):\\n\", b.cumsum(axis=1))\n",
    "print(\"Mean:\", a.mean())\n",
    "print(\"Median:\", np.median(b))\n",
    "print(\"Std dev:\", np.std(b))\n",
    "\n"
   ]
  },
  {
   "cell_type": "code",
   "execution_count": 14,
   "id": "9d6c1760-a6f0-4e35-be87-bfbd1b93c404",
   "metadata": {},
   "outputs": [
    {
     "name": "stdout",
     "output_type": "stream",
     "text": [
      "Flatten b: [1.5 2.  3.  4.  5.  6. ]\n",
      "Reshape g:\n",
      " [[7 7]\n",
      " [7 7]]\n",
      "Resized h:\n",
      " [[1 2 3]\n",
      " [0 0 0]]\n"
     ]
    }
   ],
   "source": [
    "# Reshaping / Manipulation\n",
    "\n",
    "print(\"Flatten b:\", b.ravel())\n",
    "print(\"Reshape g:\\n\", g.reshape(2, -1))\n",
    "\n",
    "h = np.array([1, 2, 3])\n",
    "h.resize((2, 3))\n",
    "print(\"Resized h:\\n\", h)\n",
    "\n"
   ]
  },
  {
   "cell_type": "code",
   "execution_count": 15,
   "id": "1a095cf5-1185-4a55-9fc9-02522ba8de5b",
   "metadata": {},
   "outputs": [
    {
     "name": "stdout",
     "output_type": "stream",
     "text": [
      "Concatenate: [ 1  2  3 10 15 20]\n",
      "Stack vertically:\n",
      " [[ 1  2  3]\n",
      " [10 15 20]]\n",
      "Stack horizontally:\n",
      " [[ 1 10]\n",
      " [ 2 15]\n",
      " [ 3 20]]\n"
     ]
    }
   ],
   "source": [
    "# Concatenation\n",
    "a1 = np.array([1, 2, 3])\n",
    "d1 = np.array([10, 15, 20])\n",
    "print(\"Concatenate:\", np.concatenate((a1, d1)))\n",
    "print(\"Stack vertically:\\n\", np.vstack((a1, d1)))\n",
    "print(\"Stack horizontally:\\n\", np.hstack((a1.reshape(-1,1), d1.reshape(-1,1))))\n",
    "\n"
   ]
  },
  {
   "cell_type": "code",
   "execution_count": 16,
   "id": "ac7563e7-5b34-4ab7-8291-43839ac1b87f",
   "metadata": {},
   "outputs": [
    {
     "name": "stdout",
     "output_type": "stream",
     "text": [
      "HSplit: [array([1]), array([2]), array([3])]\n",
      "VSplit:\n",
      " [array([[1.5, 2. , 3. ]]), array([[4., 5., 6.]])]\n"
     ]
    }
   ],
   "source": [
    "# Splitting\n",
    "print(\"HSplit:\", np.hsplit(a1, 3))\n",
    "c1 = np.array([[1.5, 2, 3], [4, 5, 6]])\n",
    "print(\"VSplit:\\n\", np.vsplit(c1, 2))\n",
    "\n"
   ]
  },
  {
   "cell_type": "code",
   "execution_count": 17,
   "id": "86eb7277-a0c5-4299-9222-ed15813750a9",
   "metadata": {},
   "outputs": [
    {
     "name": "stdout",
     "output_type": "stream",
     "text": [
      "Loaded array: [1 2 3]\n"
     ]
    }
   ],
   "source": [
    "# Saving & Loading\n",
    "\n",
    "np.save(\"my_array.npy\", a)\n",
    "loaded = np.load(\"my_array.npy\")\n",
    "print(\"Loaded array:\", loaded)"
   ]
  },
  {
   "cell_type": "code",
   "execution_count": null,
   "id": "13a86d7a-14b6-4c1b-92e1-b9721bc338a0",
   "metadata": {},
   "outputs": [],
   "source": []
  }
 ],
 "metadata": {
  "kernelspec": {
   "display_name": "Python 3 (ipykernel)",
   "language": "python",
   "name": "python3"
  },
  "language_info": {
   "codemirror_mode": {
    "name": "ipython",
    "version": 3
   },
   "file_extension": ".py",
   "mimetype": "text/x-python",
   "name": "python",
   "nbconvert_exporter": "python",
   "pygments_lexer": "ipython3",
   "version": "3.12.6"
  }
 },
 "nbformat": 4,
 "nbformat_minor": 5
}
